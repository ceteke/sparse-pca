{
 "cells": [
  {
   "cell_type": "code",
   "execution_count": 7,
   "metadata": {},
   "outputs": [
    {
     "name": "stdout",
     "output_type": "stream",
     "text": [
      "The autoreload extension is already loaded. To reload it, use:\n",
      "  %reload_ext autoreload\n"
     ]
    }
   ],
   "source": [
    "%load_ext autoreload\n",
    "%autoreload 2\n",
    "\n",
    "import sys\n",
    "sys.path.insert(1, '../src')\n",
    "from models import random_xi, spiked_model\n",
    "from solvers import online\n",
    "\n",
    "from tqdm.notebook import tqdm\n",
    "from joblib import Parallel, delayed\n",
    "\n",
    "import numpy as np\n",
    "import matplotlib.pyplot as plt\n",
    "%matplotlib inline\n",
    "\n",
    "rho = 0.05\n",
    "p = 10000\n",
    "omega = 1\n",
    "beta = 0.27\n",
    "tau = 0.5\n",
    "T = 100 # t -> inf\n",
    "\n",
    "def get_omega_Q(omega, progress=None):\n",
    "    model = spiked_model(omega, rho=rho, p=p)\n",
    "    Q = online(model, phi, tau, T, progress=progress)\n",
    "    return Q[-1]"
   ]
  },
  {
   "cell_type": "code",
   "execution_count": 8,
   "metadata": {},
   "outputs": [
    {
     "name": "stdout",
     "output_type": "stream",
     "text": [
      "[Parallel(n_jobs=8)]: Using backend LokyBackend with 8 concurrent workers.\n",
      "[Parallel(n_jobs=8)]: Done   1 tasks      | elapsed: 18.0min\n",
      "[Parallel(n_jobs=8)]: Done   2 tasks      | elapsed: 18.0min\n",
      "[Parallel(n_jobs=8)]: Done   3 tasks      | elapsed: 18.0min\n",
      "[Parallel(n_jobs=8)]: Done   4 tasks      | elapsed: 18.0min\n",
      "[Parallel(n_jobs=8)]: Done   5 tasks      | elapsed: 18.0min\n",
      "[Parallel(n_jobs=8)]: Done   6 out of  20 | elapsed: 18.0min remaining: 42.1min\n",
      "[Parallel(n_jobs=8)]: Done   7 out of  20 | elapsed: 18.1min remaining: 33.6min\n",
      "[Parallel(n_jobs=8)]: Done   8 out of  20 | elapsed: 18.1min remaining: 27.2min\n",
      "[Parallel(n_jobs=8)]: Done   9 out of  20 | elapsed: 38.4min remaining: 46.9min\n",
      "[Parallel(n_jobs=8)]: Done  10 out of  20 | elapsed: 38.4min remaining: 38.4min\n",
      "[Parallel(n_jobs=8)]: Done  11 out of  20 | elapsed: 38.4min remaining: 31.4min\n",
      "[Parallel(n_jobs=8)]: Done  12 out of  20 | elapsed: 38.4min remaining: 25.6min\n",
      "[Parallel(n_jobs=8)]: Done  13 out of  20 | elapsed: 38.4min remaining: 20.7min\n",
      "[Parallel(n_jobs=8)]: Done  14 out of  20 | elapsed: 38.5min remaining: 16.5min\n",
      "[Parallel(n_jobs=8)]: Done  15 out of  20 | elapsed: 38.6min remaining: 12.9min\n",
      "[Parallel(n_jobs=8)]: Done  16 out of  20 | elapsed: 38.6min remaining:  9.7min\n",
      "[Parallel(n_jobs=8)]: Done  17 out of  20 | elapsed: 50.1min remaining:  8.8min\n",
      "[Parallel(n_jobs=8)]: Done  18 out of  20 | elapsed: 50.1min remaining:  5.6min\n",
      "[Parallel(n_jobs=8)]: Done  20 out of  20 | elapsed: 50.2min remaining:    0.0s\n",
      "[Parallel(n_jobs=8)]: Done  20 out of  20 | elapsed: 50.2min finished\n"
     ]
    }
   ],
   "source": [
    "# OIST\n",
    "\n",
    "omegas = np.linspace(0, 1, 20)\n",
    "\n",
    "phi = lambda x: beta*np.sign(x)\n",
    "omega_Qs = Parallel(n_jobs=8, verbose=50)(delayed(get_omega_Q)(o) for o in omegas)\n",
    "   \n",
    "omega_Qs = np.array(omega_Qs)\n",
    "np.savetxt('../data/omega_oist', omega_Qs)"
   ]
  },
  {
   "cell_type": "code",
   "execution_count": 11,
   "metadata": {},
   "outputs": [
    {
     "name": "stdout",
     "output_type": "stream",
     "text": [
      "[Parallel(n_jobs=8)]: Using backend LokyBackend with 8 concurrent workers.\n",
      "[Parallel(n_jobs=8)]: Done   1 tasks      | elapsed: 17.4min\n",
      "[Parallel(n_jobs=8)]: Done   2 tasks      | elapsed: 17.4min\n",
      "[Parallel(n_jobs=8)]: Done   3 tasks      | elapsed: 17.4min\n",
      "[Parallel(n_jobs=8)]: Done   4 tasks      | elapsed: 17.4min\n",
      "[Parallel(n_jobs=8)]: Done   5 tasks      | elapsed: 17.5min\n",
      "[Parallel(n_jobs=8)]: Done   6 out of  20 | elapsed: 17.5min remaining: 40.8min\n",
      "[Parallel(n_jobs=8)]: Done   7 out of  20 | elapsed: 17.5min remaining: 32.5min\n",
      "[Parallel(n_jobs=8)]: Done   8 out of  20 | elapsed: 17.5min remaining: 26.2min\n",
      "[Parallel(n_jobs=8)]: Done   9 out of  20 | elapsed: 35.4min remaining: 43.3min\n",
      "[Parallel(n_jobs=8)]: Done  10 out of  20 | elapsed: 35.4min remaining: 35.4min\n",
      "[Parallel(n_jobs=8)]: Done  11 out of  20 | elapsed: 35.5min remaining: 29.0min\n",
      "[Parallel(n_jobs=8)]: Done  12 out of  20 | elapsed: 35.5min remaining: 23.7min\n",
      "[Parallel(n_jobs=8)]: Done  13 out of  20 | elapsed: 35.5min remaining: 19.1min\n",
      "[Parallel(n_jobs=8)]: Done  14 out of  20 | elapsed: 35.5min remaining: 15.2min\n",
      "[Parallel(n_jobs=8)]: Done  15 out of  20 | elapsed: 35.6min remaining: 11.9min\n",
      "[Parallel(n_jobs=8)]: Done  16 out of  20 | elapsed: 35.6min remaining:  8.9min\n",
      "[Parallel(n_jobs=8)]: Done  17 out of  20 | elapsed: 45.6min remaining:  8.1min\n",
      "[Parallel(n_jobs=8)]: Done  18 out of  20 | elapsed: 45.6min remaining:  5.1min\n",
      "[Parallel(n_jobs=8)]: Done  20 out of  20 | elapsed: 45.7min remaining:    0.0s\n",
      "[Parallel(n_jobs=8)]: Done  20 out of  20 | elapsed: 45.7min finished\n"
     ]
    }
   ],
   "source": [
    "# OJA\n",
    "\n",
    "omegas = np.linspace(0, 1, 20)\n",
    "\n",
    "phi = lambda x: np.zeros_like(x)\n",
    "omega_Qs = Parallel(n_jobs=8, verbose=50)(delayed(get_omega_Q)(o) for o in omegas)\n",
    "    \n",
    "omega_Qs = np.array(omega_Qs)\n",
    "np.savetxt('../data/omega_oja', omega_Qs)"
   ]
  },
  {
   "cell_type": "code",
   "execution_count": 12,
   "metadata": {},
   "outputs": [
    {
     "data": {
      "text/plain": [
       "[<matplotlib.lines.Line2D at 0x116a3c550>]"
      ]
     },
     "execution_count": 12,
     "metadata": {},
     "output_type": "execute_result"
    },
    {
     "data": {
      "image/png": "[encoded data removed]",
      "text/plain": [
       "<Figure size 432x288 with 1 Axes>"
      ]
     },
     "metadata": {
      "needs_background": "light"
     },
     "output_type": "display_data"
    }
   ],
   "source": [
    "plt.plot(omega_Qs)"
   ]
  },
  {
   "cell_type": "code",
   "execution_count": null,
   "metadata": {},
   "outputs": [],
   "source": []
  }
 ],
 "metadata": {
  "kernelspec": {
   "display_name": "denoise-env",
   "language": "python",
   "name": "myenv"
  }
 },
 "nbformat": 4,
 "nbformat_minor": 4
}
