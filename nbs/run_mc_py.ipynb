{
 "cells": [
  {
   "cell_type": "code",
   "execution_count": null,
   "metadata": {},
   "outputs": [],
   "source": [
    "%load_ext autoreload\n",
    "%autoreload 2\n",
    "\n",
    "import sys\n",
    "sys.path.insert(1, '../src')\n",
    "from models import random_xi, spiked_model\n",
    "from solvers import online\n",
    "\n",
    "from tqdm.notebook import tqdm\n",
    "from joblib import Parallel, delayed\n",
    "\n",
    "import numpy as np\n",
    "import matplotlib.pyplot as plt\n",
    "%matplotlib inline\n",
    "\n",
    "rho = 0.05\n",
    "p = 10000\n",
    "omega = 1\n",
    "beta = 0.27\n",
    "tau = 0.5\n",
    "T = 10\n",
    "\n",
    "phi = lambda x: np.zeros_like(x) # Oja\n",
    "\n",
    "def run_exp(expon_init, progress=None):\n",
    "    if expon_init:\n",
    "        x0 = np.random.exponential(size=p)\n",
    "        \n",
    "    model = spiked_model(omega, rho=rho, p=p)\n",
    "    xi, _ = model(1)\n",
    "    \n",
    "    return xi, online(model, phi, tau, T, progress=progress, return_X=True)\n",
    "\n",
    "def run_mc_exp(expon_init, n_jobs=2, n_exp=100):\n",
    "    xi, (Xs, Qs) = Parallel(n_jobs=n_jobs, verbose=50)(delayed(run_exp)(expon_init) for _ in range(n_exp))\n",
    "    \n",
    "    return np.array(Xs), np.array(Qs)"
   ]
  },
  {
   "cell_type": "code",
   "execution_count": null,
   "metadata": {},
   "outputs": [],
   "source": [
    "X_expon, Q_expon = run_mc_exp(True)"
   ]
  },
  {
   "cell_type": "code",
   "execution_count": null,
   "metadata": {},
   "outputs": [],
   "source": []
  }
 ],
 "metadata": {
  "kernelspec": {
   "display_name": "denoise-env",
   "language": "python",
   "name": "myenv"
  },
  "language_info": {
   "codemirror_mode": {
    "name": "ipython",
    "version": 3
   },
   "file_extension": ".py",
   "mimetype": "text/x-python",
   "name": "python",
   "nbconvert_exporter": "python",
   "pygments_lexer": "ipython3",
   "version": "3.7.3"
  }
 },
 "nbformat": 4,
 "nbformat_minor": 4
}
