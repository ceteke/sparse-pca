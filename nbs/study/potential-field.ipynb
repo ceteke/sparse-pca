{
 "cells": [
  {
   "cell_type": "markdown",
   "metadata": {},
   "source": [
    "3D plot of the potential field of nonsparse case (Oja)"
   ]
  },
  {
   "cell_type": "code",
   "execution_count": null,
   "metadata": {},
   "outputs": [],
   "source": [
    "import numpy as np\n",
    "import h5py\n",
    "\n",
    "import matplotlib.pyplot as plt\n",
    "%matplotlib notebook\n",
    "from mpl_toolkits.mplot3d import Axes3D\n",
    "\n",
    "omega = 1.0\n",
    "rho = 0.05\n",
    "tau = 0.5\n",
    "beta = 0.27"
   ]
  },
  {
   "cell_type": "code",
   "execution_count": null,
   "metadata": {},
   "outputs": [],
   "source": [
    "f_oja = h5py.File(\"../../data/oja_mc.jld\", \"r\")\n",
    "\n",
    "x_oja = f_oja['X_mc'].value[:, :-1, 0]\n",
    "Xi_oja = f_oja['Xi_mc'].value[:, 0]\n",
    "Q_oja = f_oja['Q_mc'].value[:-1, 0]"
   ]
  },
  {
   "cell_type": "code",
   "execution_count": null,
   "metadata": {},
   "outputs": [],
   "source": [
    "def potential(x, Q, xi):\n",
    "    v1 = 0.5*tau*((0.5*tau+1)*omega*np.square(Q) + 0.5*tau)\n",
    "    v2 = x - (omega*Q/((0.5*tau + 1)*omega*np.square(Q) + 0.5*tau))*xi\n",
    "    \n",
    "    return v1*np.square(v2)"
   ]
  },
  {
   "cell_type": "code",
   "execution_count": null,
   "metadata": {},
   "outputs": [],
   "source": [
    "xs = np.linspace(-6, 6, 100)\n",
    "xi = 1/np.sqrt(rho)\n",
    "\n",
    "potentials = np.zeros((len(Q_oja), len(xs)))\n",
    "\n",
    "for t, q in enumerate(Q_oja):\n",
    "    potentials[t,:] = potential(xs, q, xi)"
   ]
  },
  {
   "cell_type": "code",
   "execution_count": null,
   "metadata": {},
   "outputs": [],
   "source": [
    "Qs, Xs = np.meshgrid(Q_oja, xs)\n",
    "Z = potential(Xs, Qs, xi)\n",
    "\n",
    "fig = plt.figure()\n",
    "ax = fig.gca(projection='3d')\n",
    "ax.plot_surface(Qs, Xs, Z)"
   ]
  },
  {
   "cell_type": "code",
   "execution_count": null,
   "metadata": {},
   "outputs": [],
   "source": []
  }
 ],
 "metadata": {
  "kernelspec": {
   "display_name": "Python 3",
   "language": "python",
   "name": "python3"
  },
  "language_info": {
   "codemirror_mode": {
    "name": "ipython",
    "version": 3
   },
   "file_extension": ".py",
   "mimetype": "text/x-python",
   "name": "python",
   "nbconvert_exporter": "python",
   "pygments_lexer": "ipython3",
   "version": "3.7.3"
  }
 },
 "nbformat": 4,
 "nbformat_minor": 4
}
