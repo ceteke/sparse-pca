{
 "cells": [
  {
   "cell_type": "code",
   "execution_count": 1,
   "metadata": {},
   "outputs": [],
   "source": [
    "import numpy as np\n",
    "import scipy.stats\n",
    "from scipy import ndimage\n",
    "import matplotlib.pyplot as plt\n",
    "%matplotlib inline\n",
    "\n",
    "from ipywidgets import interact, interactive, fixed, interact_manual\n",
    "import ipywidgets as widgets\n",
    "\n",
    "plt.rcParams['figure.figsize'] = [13, 5]\n",
    "\n",
    "from matplotlib import animation, rc\n",
    "from IPython.display import HTML"
   ]
  },
  {
   "cell_type": "code",
   "execution_count": 15,
   "metadata": {},
   "outputs": [],
   "source": [
    "omega = 1.0\n",
    "rho = 0.05\n",
    "tau = 0.5\n",
    "beta = 0.27\n",
    "T = 15\n",
    "initial_dist = scipy.stats.norm(np.power(2, -0.5), 0.5)\n",
    "\n",
    "# xi = 1/np.sqrt(rho)\n",
    "xi = 0\n",
    "\n",
    "# phi = lambda x: beta*jnp.sign(x);\n",
    "phi = lambda x: np.zeros_like(x)\n",
    "\n",
    "# Discretization\n",
    "# If you keep Nt low, there will be huge steps between t to t+1 which causes ringin artifacts.\n",
    "Nx = 100\n",
    "Nt = 500\n",
    "\n",
    "xs = np.linspace(-6, 6, Nx)\n",
    "dx = xs[1] - xs[0]\n",
    "ts = np.linspace(0, T, Nt)\n",
    "dt = ts[1] - ts[0]"
   ]
  },
  {
   "cell_type": "code",
   "execution_count": 16,
   "metadata": {},
   "outputs": [],
   "source": [
    "def calculate_gamma(x, xi, qt, rt):\n",
    "    y = tau*omega*qt*xi - phi(x)\n",
    "    y = y - x*(tau*omega*np.square(qt) - rt + 0.5*np.square(tau)*(1+omega*np.square(qt)))\n",
    "    return y\n",
    "\n",
    "def calculate_q(Pt, xs):\n",
    "    return np.sqrt(rho)*np.dot(Pt, xs)*dx\n",
    "\n",
    "def calculate_r(Pt, xs):\n",
    "    px = phi(xs)\n",
    "    return np.dot(xs*px, Pt)*dx\n",
    "\n",
    "def d_central(fun, dx, order):\n",
    "    kernels = {\n",
    "        1: np.array([-0.5, 0, 0.5]) / dx,\n",
    "        2: np.array([1, -2, 1]) / np.square(dx),\n",
    "    }\n",
    "    \n",
    "    kernel = kernels[order]\n",
    "    return np.correlate(np.pad(fun, (1, 1)), kernel, mode='valid')\n",
    "\n",
    "def lowpass_filter(signal, cutoff, fps, order=5):\n",
    "    normalized_cutoff_freq = 2 * cutoff / fps\n",
    "    b, a = butter(order, normalized_cutoff_freq, btype='low', analog=False)\n",
    "    return scipy.signal.filtfilt(b, a, signal)"
   ]
  },
  {
   "cell_type": "code",
   "execution_count": 17,
   "metadata": {},
   "outputs": [],
   "source": [
    "P = np.zeros((Nt, Nx))\n",
    "ddP = np.zeros((Nt, Nx))\n",
    "Gamma = np.zeros((Nt, Nx))\n",
    "dP = np.zeros((Nt, Nx))\n",
    "dPdt = np.zeros((Nt, Nx))\n",
    "\n",
    "Q = np.zeros(Nt)\n",
    "\n",
    "P[0] = initial_dist.pdf(xs)\n",
    "Q[0] = calculate_q(P[0], xs)\n",
    "\n",
    "for t in range(0,Nt-1):\n",
    "    Pt = P[t]\n",
    "    # TODO: Make this work simultaniously for sparse and zeros\n",
    "    qt = calculate_q(P_sparse[t], xs)\n",
    "    rt = calculate_r(Pt, xs)\n",
    "\n",
    "    gp = calculate_gamma(xs, xi, qt, rt)\n",
    "    dgp = d_central(gp*Pt, dx, 1)\n",
    "        \n",
    "    ddp = 0.5*np.square(tau)*(1 + omega*np.square(qt))*d_central(Pt, dx, 2)\n",
    "\n",
    "    P[t+1] = Pt + (-dgp + ddp)*dt\n",
    "    Q[t+1] = qt\n",
    "    ddP[t] = ddp\n",
    "    dP[t] = dgp\n",
    "    Gamma[t] = gp\n",
    "    dPdt[t] = ddp - dgp"
   ]
  },
  {
   "cell_type": "code",
   "execution_count": 10,
   "metadata": {},
   "outputs": [],
   "source": [
    "P_sparse = np.copy(P)"
   ]
  },
  {
   "cell_type": "code",
   "execution_count": 18,
   "metadata": {},
   "outputs": [
    {
     "data": {
      "application/vnd.jupyter.widget-view+json": {
       "model_id": "832ad04f8e5e45808adc05ec92ecc233",
       "version_major": 2,
       "version_minor": 0
      },
      "text/plain": [
       "interactive(children=(IntSlider(value=0, description='t', max=499), Dropdown(description='var', options=('P', …"
      ]
     },
     "metadata": {},
     "output_type": "display_data"
    }
   ],
   "source": [
    "inter_vars = {\n",
    "    'P': P,\n",
    "    'dP': dP,\n",
    "    'ddP': ddP,\n",
    "    'dPdt': dPdt,\n",
    "    'gamma': Gamma\n",
    "}\n",
    "\n",
    "def plot_p(t=0, var='P'):\n",
    "    plt.plot(xs, inter_vars[var][t])\n",
    "    plt.ylim((0, 1))\n",
    "    \n",
    "    plt.xlabel(\"$x$\")\n",
    "    plt.ylabel(f\"{var}\")\n",
    "\n",
    "t_slider = widgets.IntSlider(min=0, max=Nt-1, step=1, value=0)\n",
    "var_select = widgets.Dropdown(options=inter_vars.keys())\n",
    "interact(plot_p, t=t_slider, var=var_select);"
   ]
  },
  {
   "cell_type": "code",
   "execution_count": 14,
   "metadata": {},
   "outputs": [
    {
     "data": {
      "text/plain": [
       "[<matplotlib.lines.Line2D at 0x12004a550>]"
      ]
     },
     "execution_count": 14,
     "metadata": {},
     "output_type": "execute_result"
    },
    {
     "data": {
      "image/png": "[encoded data removed]",
      "text/plain": [
       "<Figure size 936x360 with 1 Axes>"
      ]
     },
     "metadata": {
      "needs_background": "light"
     },
     "output_type": "display_data"
    }
   ],
   "source": [
    "plt.plot(Q)"
   ]
  },
  {
   "cell_type": "code",
   "execution_count": null,
   "metadata": {},
   "outputs": [],
   "source": [
    "# Animate the PDE\n",
    "\n",
    "fig, ax = plt.subplots()\n",
    "bins = np.linspace(-5, 5, 30)\n",
    "\n",
    "def animate(i):\n",
    "    plt.cla()\n",
    "    ax.plot(xs, P[i], lw=4, label='PDE', c='C3')\n",
    "    ax.hist(X_sparse[:, i] if xi > 0 else X_zeros[:, i], density=True, bins=bins, label='MC',\n",
    "           color='C0', alpha=0.75, lw=2)\n",
    "    ax.set_xlim((-5, 5))\n",
    "    ax.set_ylim((0, 1))\n",
    "    ax.grid()\n",
    "    \n",
    "    ax.set_xlabel(\"$x$\")\n",
    "    ax.set_ylabel(r'''$P(x \\mid \\xi)$''')\n",
    "    ax.set_title(fr'''Oja Evolution of MC vs PDE when $\\xi={round(xi, 2)}$''')\n",
    "    ax.legend()\n",
    "    \n",
    "    return []\n",
    "\n",
    "anim = animation.FuncAnimation(fig, animate, frames=Nt, interval=10, blit=True)\n",
    "HTML(anim.to_html5_video())"
   ]
  },
  {
   "cell_type": "code",
   "execution_count": 24,
   "metadata": {},
   "outputs": [
    {
     "name": "stderr",
     "output_type": "stream",
     "text": [
      "/Users/cem/Documents/Migraine/denoise/venv/lib/python3.7/site-packages/ipykernel_launcher.py:5: H5pyDeprecationWarning: dataset.value has been deprecated. Use dataset[()] instead.\n",
      "  \"\"\"\n",
      "/Users/cem/Documents/Migraine/denoise/venv/lib/python3.7/site-packages/ipykernel_launcher.py:12: H5pyDeprecationWarning: dataset.value has been deprecated. Use dataset[()] instead.\n",
      "  if sys.path[0] == '':\n",
      "/Users/cem/Documents/Migraine/denoise/venv/lib/python3.7/site-packages/ipykernel_launcher.py:13: H5pyDeprecationWarning: dataset.value has been deprecated. Use dataset[()] instead.\n",
      "  del sys.path[0]\n"
     ]
    }
   ],
   "source": [
    "import h5py\n",
    "\n",
    "f_oja = h5py.File(\"../data/oja_mc.jld\", \"r\")\n",
    "\n",
    "x_oja = f_oja['X_mc'].value\n",
    "x_oja = np.swapaxes(x_oja, 1, 2)\n",
    "\n",
    "# Only get the related time steps\n",
    "p, _, n_iter = x_oja.shape\n",
    "x_oja = x_oja[:, :, np.linspace(0, n_iter-1, Nt, dtype=int)]\n",
    "\n",
    "Xi_oja = f_oja['Xi_mc'].value\n",
    "Q_oja = f_oja['Q_mc'].value"
   ]
  },
  {
   "cell_type": "code",
   "execution_count": 25,
   "metadata": {},
   "outputs": [
    {
     "data": {
      "image/png": "[encoded data removed]",
      "text/plain": [
       "<Figure size 936x360 with 1 Axes>"
      ]
     },
     "metadata": {
      "needs_background": "light"
     },
     "output_type": "display_data"
    }
   ],
   "source": [
    "ts_mc = np.linspace(0, 15, Q_oja.shape[0])\n",
    "Q_mean = Q_oja.mean(axis=1)\n",
    "Q_var = Q_oja.var(axis=1)\n",
    "\n",
    "plt.plot(ts_mc, Q_oja.mean(axis=1), label='Q-MC')\n",
    "plt.fill_between(ts_mc, Q_mean+Q_var, Q_mean-Q_var, alpha=0.5)\n",
    "plt.plot(ts, Q, label='Q-PDE')\n",
    "plt.xlabel('$t$')\n",
    "plt.ylabel('$Q$')\n",
    "plt.legend()\n",
    "plt.grid();"
   ]
  },
  {
   "cell_type": "code",
   "execution_count": 26,
   "metadata": {},
   "outputs": [],
   "source": [
    "zero_idxs = np.where(Xi_oja == 0)\n",
    "sparse_idxs = np.where(Xi_oja > 0)\n",
    "\n",
    "X_zeros = x_oja[Xi_oja == 0, :]\n",
    "X_sparse = x_oja[Xi_oja > 0, :]"
   ]
  },
  {
   "cell_type": "code",
   "execution_count": null,
   "metadata": {},
   "outputs": [],
   "source": []
  }
 ],
 "metadata": {
  "kernelspec": {
   "display_name": "denoise-env",
   "language": "python",
   "name": "myenv"
  },
  "language_info": {
   "codemirror_mode": {
    "name": "ipython",
    "version": 3
   },
   "file_extension": ".py",
   "mimetype": "text/x-python",
   "name": "python",
   "nbconvert_exporter": "python",
   "pygments_lexer": "ipython3",
   "version": "3.7.3"
  }
 },
 "nbformat": 4,
 "nbformat_minor": 4
}
