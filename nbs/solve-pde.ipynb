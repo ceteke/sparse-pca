{
 "cells": [
  {
   "cell_type": "code",
   "execution_count": 1,
   "metadata": {},
   "outputs": [],
   "source": [
    "import numpy as np\n",
    "import scipy.stats\n",
    "from scipy import ndimage\n",
    "import matplotlib.pyplot as plt\n",
    "%matplotlib inline\n",
    "\n",
    "from ipywidgets import interact, interactive, fixed, interact_manual\n",
    "import ipywidgets as widgets\n",
    "\n",
    "plt.rcParams['figure.figsize'] = [13, 5]"
   ]
  },
  {
   "cell_type": "code",
   "execution_count": 24,
   "metadata": {},
   "outputs": [],
   "source": [
    "omega = 1.0\n",
    "rho = 0.05\n",
    "tau = 0.5\n",
    "beta = 0.27\n",
    "T = 15\n",
    "initial_dist = scipy.stats.norm(np.power(2, -0.5), 0.5)\n",
    "\n",
    "xi = 1/np.sqrt(rho)\n",
    "# xi = 0\n",
    "\n",
    "# phi = lambda x: beta*jnp.sign(x);\n",
    "phi = lambda x: np.zeros_like(x)\n",
    "\n",
    "# Discretization\n",
    "Nx = 50\n",
    "Nt = 100\n",
    "\n",
    "xs = np.linspace(-5, 5, Nx)\n",
    "dx = xs[1] - xs[0]\n",
    "ts = np.linspace(0, T, Nt)\n",
    "dt = ts[1] - ts[0]"
   ]
  },
  {
   "cell_type": "code",
   "execution_count": 25,
   "metadata": {},
   "outputs": [],
   "source": [
    "def calculate_gamma(x, xi, qt, rt):\n",
    "    y = tau*omega*qt*xi - phi(x)\n",
    "    y -= x*(tau*omega*np.square(qt) - rt + 0.5*np.square(tau)*(1+omega*np.square(qt)))\n",
    "    return y\n",
    "\n",
    "def calculate_q(Pt, xs):\n",
    "    return np.sqrt(rho)*np.dot(Pt, xs)*dx\n",
    "\n",
    "def calculate_r(Pt, xs):\n",
    "    px = phi(xs)\n",
    "    return np.dot(xs*px, Pt)*dx\n",
    "\n",
    "\n",
    "def d_central(fun, dx, order):\n",
    "    kernels = {\n",
    "        1: np.array([-0.5, 0, 0.5]) / dx,\n",
    "        2: np.array([1, -2, 1]) / np.square(dx),\n",
    "    }\n",
    "    \n",
    "    kernel = kernels[order]\n",
    "    return np.convolve(np.pad(fun, (1, 1)), kernel, mode='valid')"
   ]
  },
  {
   "cell_type": "code",
   "execution_count": 26,
   "metadata": {},
   "outputs": [],
   "source": [
    "P = np.zeros((Nt, Nx))\n",
    "ddP = np.zeros((Nt, Nx))\n",
    "Gamma = np.zeros((Nt, Nx))\n",
    "dP = np.zeros((Nt, Nx))\n",
    "dPdt = np.zeros((Nt, Nx))\n",
    "\n",
    "Q = np.zeros(Nt)\n",
    "P[0] = initial_dist.pdf(xs)\n",
    "\n",
    "for t in range(0,Nt-1):\n",
    "    Pt = P[t]\n",
    "    qt = calculate_q(Pt, xs)\n",
    "    rt = calculate_r(Pt, xs)\n",
    "\n",
    "    gp = calculate_gamma(xs, xi, qt, rt)\n",
    "    dgp = d_central(gp*Pt, dx, 1)\n",
    "        \n",
    "    ddp = 0.5*np.square(tau)*(1 + omega*np.square(qt))*d_central(Pt, dx, 2)\n",
    "\n",
    "    P[t+1] = Pt + (-dgp + ddp)*dt\n",
    "    Q[t] = qt\n",
    "    ddP[t] = ddp\n",
    "    dP[t] = dgp\n",
    "    Gamma[t] = gp\n",
    "    dPdt[t] = ddp - dgp"
   ]
  },
  {
   "cell_type": "code",
   "execution_count": 27,
   "metadata": {},
   "outputs": [
    {
     "data": {
      "application/vnd.jupyter.widget-view+json": {
       "model_id": "952f798a895f47f7a23a1c24a73ce335",
       "version_major": 2,
       "version_minor": 0
      },
      "text/plain": [
       "interactive(children=(IntSlider(value=0, description='t', max=99), Dropdown(description='var', options=('P', '…"
      ]
     },
     "metadata": {},
     "output_type": "display_data"
    }
   ],
   "source": [
    "inter_vars = {\n",
    "    'P': P,\n",
    "    'dP': dP,\n",
    "    'ddP': ddP,\n",
    "    'dPdt': dPdt,\n",
    "    'gamma': Gamma\n",
    "}\n",
    "\n",
    "def plot_p(t=0, var='P'):\n",
    "    plt.plot(xs, inter_vars[var][t])\n",
    "    # plt.ylim((0, 1))\n",
    "    \n",
    "    plt.xlabel(\"$x$\")\n",
    "    plt.ylabel(f\"{var}\")\n",
    "\n",
    "t_slider = widgets.IntSlider(min=0, max=Nt-1, step=1, value=0)\n",
    "var_select = widgets.Dropdown(options=inter_vars.keys())\n",
    "interact(plot_p, t=t_slider, var=var_select);"
   ]
  },
  {
   "cell_type": "code",
   "execution_count": 28,
   "metadata": {},
   "outputs": [
    {
     "data": {
      "text/plain": [
       "[<matplotlib.lines.Line2D at 0x12d019da0>]"
      ]
     },
     "execution_count": 28,
     "metadata": {},
     "output_type": "execute_result"
    },
    {
     "data": {
      "image/png": "[encoded data removed]",
      "text/plain": [
       "<Figure size 936x360 with 1 Axes>"
      ]
     },
     "metadata": {
      "needs_background": "light"
     },
     "output_type": "display_data"
    }
   ],
   "source": [
    "plt.plot(Q)"
   ]
  },
  {
   "cell_type": "code",
   "execution_count": null,
   "metadata": {},
   "outputs": [],
   "source": []
  }
 ],
 "metadata": {
  "kernelspec": {
   "display_name": "denoise-env",
   "language": "python",
   "name": "myenv"
  },
  "language_info": {
   "codemirror_mode": {
    "name": "ipython",
    "version": 3
   },
   "file_extension": ".py",
   "mimetype": "text/x-python",
   "name": "python",
   "nbconvert_exporter": "python",
   "pygments_lexer": "ipython3",
   "version": "3.7.3"
  }
 },
 "nbformat": 4,
 "nbformat_minor": 4
}
