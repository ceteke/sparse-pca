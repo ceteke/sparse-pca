{
 "cells": [
  {
   "cell_type": "code",
   "execution_count": 27,
   "metadata": {},
   "outputs": [],
   "source": [
    "import numpy as np\n",
    "import scipy.stats\n",
    "from scipy import ndimage\n",
    "import matplotlib.pyplot as plt\n",
    "%matplotlib inline\n",
    "\n",
    "from ipywidgets import interact, interactive, fixed, interact_manual\n",
    "import ipywidgets as widgets\n",
    "\n",
    "plt.rcParams['figure.figsize'] = [13, 5]"
   ]
  },
  {
   "cell_type": "code",
   "execution_count": 37,
   "metadata": {},
   "outputs": [],
   "source": [
    "omega = 1.0\n",
    "rho = 0.05\n",
    "tau = 0.5\n",
    "beta = 0.27\n",
    "T = 15\n",
    "initial_dist = scipy.stats.norm(np.power(2, -0.5), 0.5)\n",
    "\n",
    "# xi = 1/np.sqrt(rho)\n",
    "xi = 0\n",
    "\n",
    "# phi = lambda x: beta*jnp.sign(x);\n",
    "phi = lambda x: np.zeros_like(x)\n",
    "\n",
    "# Discretization\n",
    "order = 2\n",
    "order_idx = (order//2)\n",
    "\n",
    "Nx = 50\n",
    "Nt = 100\n",
    "\n",
    "xs = np.linspace(-5, 5, Nx+2*order_idx)\n",
    "dx = xs[1] - xs[0]\n",
    "ts = np.linspace(0, T, Nt)\n",
    "dt = ts[1] - ts[0]"
   ]
  },
  {
   "cell_type": "code",
   "execution_count": 38,
   "metadata": {},
   "outputs": [],
   "source": [
    "def calculate_gamma(x, xi, qt, rt):\n",
    "    y = tau*omega*qt*xi - phi(x)\n",
    "    y -= x*(tau*omega*np.square(qt) - rt + 0.5*np.square(tau)*(1+omega*np.square(qt)))\n",
    "    return y\n",
    "\n",
    "def calculate_q(Pt, xs):\n",
    "    return np.sqrt(rho)*np.dot(Pt, xs)*dx\n",
    "\n",
    "def calculate_r(Pt, xs):\n",
    "    px = phi(xs)\n",
    "    return np.dot(xs*px, Pt)*dx\n",
    "\n",
    "\n",
    "def d_central(fun, dx, order):\n",
    "    kernels = {\n",
    "        '12': np.array([-0.5, 0, 0.5]) / dx,\n",
    "        '22': np.array([1, -2, 1]) / np.square(dx),\n",
    "        \n",
    "        '14': np.array([-1/12, -8/12, 0, 8/12, -1/12]) / dx,\n",
    "        '24': np.array([-1/12, 16/12, -30/12, 16/12, -1/12]) / np.square(dx),\n",
    "        \n",
    "        '16': np.array([-1/60, -9/60, -45/60, 0, 45/60, -9/60, 1/60]) / dx,\n",
    "        '26': np.array([2/180, -27/180, 270/180, -490/180, 270/180, -27/180, 2/180]) / np.square(dx),\n",
    "        \n",
    "        '18': np.array([3/840, -32/840, 168/840, -672/840, 0, 672/840, -168/840, 32/840, -3/840]) / dx,\n",
    "        '28': np.array([-1/560, 8/315, -1/5, 8/5, -205/72, 8/5, -1/5, 8/315, -1/560]) / np.square(dx)\n",
    "    }\n",
    "    \n",
    "    kernel = kernels[order]\n",
    "    return np.convolve(fun, kernel, mode='valid')"
   ]
  },
  {
   "cell_type": "code",
   "execution_count": 44,
   "metadata": {},
   "outputs": [],
   "source": [
    "P = np.zeros((Nt, Nx+2*order_idx))\n",
    "ddP = np.zeros((Nt, Nx+2*order_idx))\n",
    "Gamma = np.zeros((Nt, Nx+2*order_idx))\n",
    "dP = np.zeros((Nt, Nx+2*order_idx))\n",
    "dPdt = np.zeros((Nt, Nx+2*order_idx))\n",
    "\n",
    "Q = np.zeros(Nt)\n",
    "P[0] = initial_dist.pdf(xs)\n",
    "\n",
    "for t in range(0,Nt-1):\n",
    "    Pt = P[t]\n",
    "    qt = calculate_q(Pt[order_idx:-order_idx], xs[order_idx:-order_idx])\n",
    "    rt = calculate_r(Pt[order_idx:-order_idx], xs[order_idx:-order_idx])\n",
    "\n",
    "    gp = calculate_gamma(xs, xi, qt, rt)\n",
    "    dgp = d_central(gp*Pt, dx, f\"1{order}\")\n",
    "        \n",
    "    ddp = 0.5*np.square(tau)*(1 + omega*np.square(qt))*d_central(Pt, dx, f\"2{order}\")\n",
    "\n",
    "    P[t+1, order_idx:-order_idx] = Pt[order_idx:-order_idx] + (-dgp + ddp)*dt\n",
    "    Q[t] = qt\n",
    "    ddP[t, order_idx:-order_idx] = ddp\n",
    "    dP[t, order_idx:-order_idx] = dgp\n",
    "    Gamma[t] = gp\n",
    "    dPdt[t, order_idx:-order_idx] = ddp - dgp"
   ]
  },
  {
   "cell_type": "code",
   "execution_count": 47,
   "metadata": {},
   "outputs": [
    {
     "data": {
      "application/vnd.jupyter.widget-view+json": {
       "model_id": "d52d414d3fcd41e4944d4c9b5e551296",
       "version_major": 2,
       "version_minor": 0
      },
      "text/plain": [
       "interactive(children=(IntSlider(value=0, description='t', max=99), Dropdown(description='var', options=('P', '…"
      ]
     },
     "metadata": {},
     "output_type": "display_data"
    }
   ],
   "source": [
    "inter_vars = {\n",
    "    'P': P,\n",
    "    'dP': dP,\n",
    "    'ddP': ddP,\n",
    "    'dPdt': dPdt,\n",
    "    'gamma': Gamma\n",
    "}\n",
    "\n",
    "def plot_p(t=0, var='P'):\n",
    "    plt.plot(xs, inter_vars[var][t])\n",
    "    # plt.ylim((0, 1))\n",
    "    \n",
    "    plt.xlabel(\"$x$\")\n",
    "    plt.ylabel(f\"{var}\")\n",
    "\n",
    "t_slider = widgets.IntSlider(min=0, max=Nt-1, step=1, value=0)\n",
    "var_select = widgets.Dropdown(options=inter_vars.keys())\n",
    "interact(plot_p, t=t_slider, var=var_select);"
   ]
  },
  {
   "cell_type": "code",
   "execution_count": 48,
   "metadata": {},
   "outputs": [
    {
     "data": {
      "text/plain": [
       "[<matplotlib.lines.Line2D at 0x128b2f2e8>]"
      ]
     },
     "execution_count": 48,
     "metadata": {},
     "output_type": "execute_result"
    },
    {
     "data": {
      "image/png": "[encoded data removed]",
      "text/plain": [
       "<Figure size 936x360 with 1 Axes>"
      ]
     },
     "metadata": {
      "needs_background": "light"
     },
     "output_type": "display_data"
    }
   ],
   "source": [
    "plt.plot(Q)"
   ]
  },
  {
   "cell_type": "code",
   "execution_count": null,
   "metadata": {},
   "outputs": [],
   "source": []
  }
 ],
 "metadata": {
  "kernelspec": {
   "display_name": "denoise-env",
   "language": "python",
   "name": "myenv"
  },
  "language_info": {
   "codemirror_mode": {
    "name": "ipython",
    "version": 3
   },
   "file_extension": ".py",
   "mimetype": "text/x-python",
   "name": "python",
   "nbconvert_exporter": "python",
   "pygments_lexer": "ipython3",
   "version": "3.7.3"
  }
 },
 "nbformat": 4,
 "nbformat_minor": 4
}
